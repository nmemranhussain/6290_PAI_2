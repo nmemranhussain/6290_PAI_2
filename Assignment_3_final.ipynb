{
  "cells": [
    {
      "cell_type": "markdown",
      "source": [
        "# License\n",
        "***\n",
        "Copyright (C) 2025 J. Patrick Hall, jphall@gwu.edu and N M Emran Hussain (nmemran.hussain@gwu.edu)\n",
        "\n",
        "Permission is hereby granted, free of charge, to any person obtaining a copy of this software and associated documentation files (the \"Software\"), to deal in the Software without restriction, including without limitation the rights to use, copy, modify, merge, publish, distribute, sublicense, and/or sell copies of the Software, and to permit persons to whom the Software is furnished to do so, subject to the following conditions:\n",
        "\n",
        "The above copyright notice and this permission notice shall be included in all copies or substantial portions of the Software.\n",
        "\n",
        "THE SOFTWARE IS PROVIDED \"AS IS\", WITHOUT WARRANTY OF ANY KIND, EXPRESS OR IMPLIED, INCLUDING BUT NOT LIMITED TO THE WARRANTIES OF MERCHANTABILITY, FITNESS FOR A PARTICULAR PURPOSE AND NONINFRINGEMENT. IN NO EVENT SHALL THE AUTHORS OR COPYRIGHT HOLDERS BE LIABLE FOR ANY CLAIM, DAMAGES OR OTHER LIABILITY, WHETHER IN AN ACTION OF CONTRACT, TORT OR OTHERWISE, ARISING FROM, OUT OF OR IN CONNECTION WITH THE SOFTWARE OR THE USE OR OTHER DEALINGS IN THE SOFTWARE."
      ],
      "metadata": {
        "id": "eLVKFD1ws_TJ"
      }
    },
    {
      "cell_type": "markdown",
      "metadata": {
        "id": "fvt2EhcNamhm"
      },
      "source": [
        "# MNIST Data"
      ]
    },
    {
      "cell_type": "markdown",
      "source": [
        "1. Imports"
      ],
      "metadata": {
        "id": "-Lzerk-SbfmO"
      }
    },
    {
      "cell_type": "code",
      "source": [
        "import numpy as np\n",
        "import tensorflow as tf\n",
        "import random as python_random\n",
        "\n",
        "from tensorflow.keras.datasets import mnist\n",
        "from tensorflow.keras.models import Sequential\n",
        "from tensorflow.keras.layers import Input, Conv2D, MaxPooling2D, Flatten, Dense\n",
        "from tensorflow.keras.utils import to_categorical"
      ],
      "metadata": {
        "id": "tm_GcmscbT9w"
      },
      "execution_count": 1,
      "outputs": []
    },
    {
      "cell_type": "markdown",
      "source": [
        "2. Try for reproducibility"
      ],
      "metadata": {
        "id": "aIy6L5Wyj61Y"
      }
    },
    {
      "cell_type": "code",
      "source": [
        "!PYTHONHASHSEED=0"
      ],
      "metadata": {
        "id": "Th0bp1ehj9rE"
      },
      "execution_count": 2,
      "outputs": []
    },
    {
      "cell_type": "code",
      "source": [
        "SEED = 309\n",
        "np.random.seed(SEED)\n",
        "python_random.seed(SEED)\n",
        "tf.random.set_seed(SEED)"
      ],
      "metadata": {
        "id": "2JaLb5UEkG-U"
      },
      "execution_count": 3,
      "outputs": []
    },
    {
      "cell_type": "markdown",
      "source": [
        "3. Load and format MNIST data"
      ],
      "metadata": {
        "id": "N7b_uvmPbi8J"
      }
    },
    {
      "cell_type": "code",
      "execution_count": 4,
      "metadata": {
        "id": "9iqzI6e-amhu",
        "colab": {
          "base_uri": "https://localhost:8080/"
        },
        "outputId": "6b119a4f-bf4d-431c-8da2-a04703331ef1"
      },
      "outputs": [
        {
          "output_type": "stream",
          "name": "stdout",
          "text": [
            "Downloading data from https://storage.googleapis.com/tensorflow/tf-keras-datasets/mnist.npz\n",
            "\u001b[1m11490434/11490434\u001b[0m \u001b[32m━━━━━━━━━━━━━━━━━━━━\u001b[0m\u001b[37m\u001b[0m \u001b[1m0s\u001b[0m 0us/step\n"
          ]
        }
      ],
      "source": [
        "# load data\n",
        "(x_train, y_train), (x_test, y_test) = mnist.load_data()\n",
        "\n",
        "# Reshape to (28, 28, 1) and normalize\n",
        "x_train = x_train.reshape(-1, 28, 28, 1).astype(\"float32\") / 255.0\n",
        "x_test = x_test.reshape(-1, 28, 28, 1).astype(\"float32\") / 255.0\n",
        "\n",
        "# One-hot encode labels\n",
        "y_train = to_categorical(y_train)\n",
        "y_test = to_categorical(y_test)\n",
        "num_classes = y_train.shape[1]"
      ]
    },
    {
      "cell_type": "markdown",
      "source": [
        "4. Examine data\n",
        "* Non-zero pixels indicate the hand-drawn image"
      ],
      "metadata": {
        "id": "wRbr2s--cTOA"
      }
    },
    {
      "cell_type": "code",
      "source": [
        "for i in range(0, 28):\n",
        "  print(np.array2string(x_train[0][i], max_line_width=np.inf, precision=2, separator=' ').replace('\\n', '').replace('[0.]', '[0.00]').replace('[0.  ]', '[0.00]'))\n",
        "\n",
        "print()\n",
        "print(y_train[0])"
      ],
      "metadata": {
        "id": "mzDWWxwhKvPc",
        "colab": {
          "base_uri": "https://localhost:8080/"
        },
        "outputId": "75b463cc-8780-419c-9a5a-5080931ee374"
      },
      "execution_count": 5,
      "outputs": [
        {
          "output_type": "stream",
          "name": "stdout",
          "text": [
            "[[0.00] [0.00] [0.00] [0.00] [0.00] [0.00] [0.00] [0.00] [0.00] [0.00] [0.00] [0.00] [0.00] [0.00] [0.00] [0.00] [0.00] [0.00] [0.00] [0.00] [0.00] [0.00] [0.00] [0.00] [0.00] [0.00] [0.00] [0.00]]\n",
            "[[0.00] [0.00] [0.00] [0.00] [0.00] [0.00] [0.00] [0.00] [0.00] [0.00] [0.00] [0.00] [0.00] [0.00] [0.00] [0.00] [0.00] [0.00] [0.00] [0.00] [0.00] [0.00] [0.00] [0.00] [0.00] [0.00] [0.00] [0.00]]\n",
            "[[0.00] [0.00] [0.00] [0.00] [0.00] [0.00] [0.00] [0.00] [0.00] [0.00] [0.00] [0.00] [0.00] [0.00] [0.00] [0.00] [0.00] [0.00] [0.00] [0.00] [0.00] [0.00] [0.00] [0.00] [0.00] [0.00] [0.00] [0.00]]\n",
            "[[0.00] [0.00] [0.00] [0.00] [0.00] [0.00] [0.00] [0.00] [0.00] [0.00] [0.00] [0.00] [0.00] [0.00] [0.00] [0.00] [0.00] [0.00] [0.00] [0.00] [0.00] [0.00] [0.00] [0.00] [0.00] [0.00] [0.00] [0.00]]\n",
            "[[0.00] [0.00] [0.00] [0.00] [0.00] [0.00] [0.00] [0.00] [0.00] [0.00] [0.00] [0.00] [0.00] [0.00] [0.00] [0.00] [0.00] [0.00] [0.00] [0.00] [0.00] [0.00] [0.00] [0.00] [0.00] [0.00] [0.00] [0.00]]\n",
            "[[0.00] [0.00] [0.00] [0.00] [0.00] [0.00] [0.00] [0.00] [0.00] [0.00] [0.00] [0.00] [0.01] [0.07] [0.07] [0.07] [0.49] [0.53] [0.69] [0.1 ] [0.65] [1.  ] [0.97] [0.5 ] [0.00] [0.00] [0.00] [0.00]]\n",
            "[[0.00] [0.00] [0.00] [0.00] [0.00] [0.00] [0.00] [0.00] [0.12] [0.14] [0.37] [0.6 ] [0.67] [0.99] [0.99] [0.99] [0.99] [0.99] [0.88] [0.67] [0.99] [0.95] [0.76] [0.25] [0.00] [0.00] [0.00] [0.00]]\n",
            "[[0.00] [0.00] [0.00] [0.00] [0.00] [0.00] [0.00] [0.19] [0.93] [0.99] [0.99] [0.99] [0.99] [0.99] [0.99] [0.99] [0.99] [0.98] [0.36] [0.32] [0.32] [0.22] [0.15] [0.00] [0.00] [0.00] [0.00] [0.00]]\n",
            "[[0.00] [0.00] [0.00] [0.00] [0.00] [0.00] [0.00] [0.07] [0.86] [0.99] [0.99] [0.99] [0.99] [0.99] [0.78] [0.71] [0.97] [0.95] [0.00] [0.00] [0.00] [0.00] [0.00] [0.00] [0.00] [0.00] [0.00] [0.00]]\n",
            "[[0.00] [0.00] [0.00] [0.00] [0.00] [0.00] [0.00] [0.00] [0.31] [0.61] [0.42] [0.99] [0.99] [0.8 ] [0.04] [0.00] [0.17] [0.6 ] [0.00] [0.00] [0.00] [0.00] [0.00] [0.00] [0.00] [0.00] [0.00] [0.00]]\n",
            "[[0.00] [0.00] [0.00] [0.00] [0.00] [0.00] [0.00] [0.00] [0.00] [0.05] [0.00] [0.6 ] [0.99] [0.35] [0.00] [0.00] [0.00] [0.00] [0.00] [0.00] [0.00] [0.00] [0.00] [0.00] [0.00] [0.00] [0.00] [0.00]]\n",
            "[[0.00] [0.00] [0.00] [0.00] [0.00] [0.00] [0.00] [0.00] [0.00] [0.00] [0.00] [0.55] [0.99] [0.75] [0.01] [0.00] [0.00] [0.00] [0.00] [0.00] [0.00] [0.00] [0.00] [0.00] [0.00] [0.00] [0.00] [0.00]]\n",
            "[[0.00] [0.00] [0.00] [0.00] [0.00] [0.00] [0.00] [0.00] [0.00] [0.00] [0.00] [0.04] [0.75] [0.99] [0.27] [0.00] [0.00] [0.00] [0.00] [0.00] [0.00] [0.00] [0.00] [0.00] [0.00] [0.00] [0.00] [0.00]]\n",
            "[[0.00] [0.00] [0.00] [0.00] [0.00] [0.00] [0.00] [0.00] [0.00] [0.00] [0.00] [0.00] [0.14] [0.95] [0.88] [0.63] [0.42] [0.00] [0.00] [0.00] [0.00] [0.00] [0.00] [0.00] [0.00] [0.00] [0.00] [0.00]]\n",
            "[[0.00] [0.00] [0.00] [0.00] [0.00] [0.00] [0.00] [0.00] [0.00] [0.00] [0.00] [0.00] [0.00] [0.32] [0.94] [0.99] [0.99] [0.47] [0.1 ] [0.00] [0.00] [0.00] [0.00] [0.00] [0.00] [0.00] [0.00] [0.00]]\n",
            "[[0.00] [0.00] [0.00] [0.00] [0.00] [0.00] [0.00] [0.00] [0.00] [0.00] [0.00] [0.00] [0.00] [0.00] [0.18] [0.73] [0.99] [0.99] [0.59] [0.11] [0.00] [0.00] [0.00] [0.00] [0.00] [0.00] [0.00] [0.00]]\n",
            "[[0.00] [0.00] [0.00] [0.00] [0.00] [0.00] [0.00] [0.00] [0.00] [0.00] [0.00] [0.00] [0.00] [0.00] [0.00] [0.06] [0.36] [0.99] [0.99] [0.73] [0.00] [0.00] [0.00] [0.00] [0.00] [0.00] [0.00] [0.00]]\n",
            "[[0.00] [0.00] [0.00] [0.00] [0.00] [0.00] [0.00] [0.00] [0.00] [0.00] [0.00] [0.00] [0.00] [0.00] [0.00] [0.00] [0.00] [0.98] [0.99] [0.98] [0.25] [0.00] [0.00] [0.00] [0.00] [0.00] [0.00] [0.00]]\n",
            "[[0.00] [0.00] [0.00] [0.00] [0.00] [0.00] [0.00] [0.00] [0.00] [0.00] [0.00] [0.00] [0.00] [0.00] [0.18] [0.51] [0.72] [0.99] [0.99] [0.81] [0.01] [0.00] [0.00] [0.00] [0.00] [0.00] [0.00] [0.00]]\n",
            "[[0.00] [0.00] [0.00] [0.00] [0.00] [0.00] [0.00] [0.00] [0.00] [0.00] [0.00] [0.00] [0.15] [0.58] [0.9 ] [0.99] [0.99] [0.99] [0.98] [0.71] [0.00] [0.00] [0.00] [0.00] [0.00] [0.00] [0.00] [0.00]]\n",
            "[[0.00] [0.00] [0.00] [0.00] [0.00] [0.00] [0.00] [0.00] [0.00] [0.00] [0.09] [0.45] [0.87] [0.99] [0.99] [0.99] [0.99] [0.79] [0.31] [0.00] [0.00] [0.00] [0.00] [0.00] [0.00] [0.00] [0.00] [0.00]]\n",
            "[[0.00] [0.00] [0.00] [0.00] [0.00] [0.00] [0.00] [0.00] [0.09] [0.26] [0.84] [0.99] [0.99] [0.99] [0.99] [0.78] [0.32] [0.01] [0.00] [0.00] [0.00] [0.00] [0.00] [0.00] [0.00] [0.00] [0.00] [0.00]]\n",
            "[[0.00] [0.00] [0.00] [0.00] [0.00] [0.00] [0.07] [0.67] [0.86] [0.99] [0.99] [0.99] [0.99] [0.76] [0.31] [0.04] [0.00] [0.00] [0.00] [0.00] [0.00] [0.00] [0.00] [0.00] [0.00] [0.00] [0.00] [0.00]]\n",
            "[[0.00] [0.00] [0.00] [0.00] [0.22] [0.67] [0.89] [0.99] [0.99] [0.99] [0.99] [0.96] [0.52] [0.04] [0.00] [0.00] [0.00] [0.00] [0.00] [0.00] [0.00] [0.00] [0.00] [0.00] [0.00] [0.00] [0.00] [0.00]]\n",
            "[[0.00] [0.00] [0.00] [0.00] [0.53] [0.99] [0.99] [0.99] [0.83] [0.53] [0.52] [0.06] [0.00] [0.00] [0.00] [0.00] [0.00] [0.00] [0.00] [0.00] [0.00] [0.00] [0.00] [0.00] [0.00] [0.00] [0.00] [0.00]]\n",
            "[[0.00] [0.00] [0.00] [0.00] [0.00] [0.00] [0.00] [0.00] [0.00] [0.00] [0.00] [0.00] [0.00] [0.00] [0.00] [0.00] [0.00] [0.00] [0.00] [0.00] [0.00] [0.00] [0.00] [0.00] [0.00] [0.00] [0.00] [0.00]]\n",
            "[[0.00] [0.00] [0.00] [0.00] [0.00] [0.00] [0.00] [0.00] [0.00] [0.00] [0.00] [0.00] [0.00] [0.00] [0.00] [0.00] [0.00] [0.00] [0.00] [0.00] [0.00] [0.00] [0.00] [0.00] [0.00] [0.00] [0.00] [0.00]]\n",
            "[[0.00] [0.00] [0.00] [0.00] [0.00] [0.00] [0.00] [0.00] [0.00] [0.00] [0.00] [0.00] [0.00] [0.00] [0.00] [0.00] [0.00] [0.00] [0.00] [0.00] [0.00] [0.00] [0.00] [0.00] [0.00] [0.00] [0.00] [0.00]]\n",
            "\n",
            "[0. 0. 0. 0. 0. 1. 0. 0. 0. 0.]\n"
          ]
        }
      ]
    },
    {
      "cell_type": "code",
      "source": [
        "import matplotlib.pyplot as plt\n",
        "_ = plt.imshow(x_train[0][:,:,])"
      ],
      "metadata": {
        "colab": {
          "base_uri": "https://localhost:8080/",
          "height": 430
        },
        "id": "AxfYSmZYd-P1",
        "outputId": "535e71b9-6df5-401a-fcec-dd95dca5a86b"
      },
      "execution_count": 6,
      "outputs": [
        {
          "output_type": "display_data",
          "data": {
            "text/plain": [
              "<Figure size 640x480 with 1 Axes>"
            ],
            "image/png": "[encoded data removed]"
          },
          "metadata": {}
        }
      ]
    },
    {
      "cell_type": "markdown",
      "metadata": {
        "id": "HXwuqWrbamhw"
      },
      "source": [
        "# Build Model"
      ]
    },
    {
      "cell_type": "markdown",
      "source": [
        "5. Define a smaller version of Lenet-5 that uses the standard 28x28 MNIST images"
      ],
      "metadata": {
        "id": "7ytM8PHnfKOf"
      }
    },
    {
      "cell_type": "code",
      "execution_count": 7,
      "metadata": {
        "scrolled": false,
        "id": "TCNU40zmamhy"
      },
      "outputs": [],
      "source": [
        "model = Sequential([\n",
        "\n",
        "    # Input\n",
        "    Input(shape=(28, 28, 1)),\n",
        "\n",
        "    # C1\n",
        "    # 1 image in, 6 feature maps out (1 image represented *in each of* the 6 feature maps)\n",
        "    # 28 x 28 x 1 inputs\n",
        "    # 1 image goes into 6 filters with (1 x 2 x 2 + 1) = 5 weights for 30 total weights in C1 layer\n",
        "    # resulting in ((28 - 2 + 0)/1) + 1 = 27 x 27 x 6 output volume\n",
        "    Conv2D(filters=6, kernel_size=(2, 2), activation='sigmoid'), # REQUIRES STUDENT INPUT\n",
        "\n",
        "    # S2\n",
        "    # 6 feature maps in, 6 activation maps out\n",
        "    # 27 x 27 x 6 input volume\n",
        "    # goes into 0 weights in S2 layer\n",
        "    # pooling implies kernel size 4, stride 2 and padding of 0.5 b/c of odd input size\n",
        "    # resulting in a ((27 - 4 + 1)/2) + 1 = 13 x 13 x 6 output volume\n",
        "    MaxPooling2D(pool_size=2),\n",
        "\n",
        "    # C3\n",
        "    # 6 activation maps in, 16 feature maps out (6 activation maps represented *in each of* the 16 feature maps)\n",
        "    # 13 x 13 x 6 input volume\n",
        "    # 6 activation maps go into 16 filters with (6 x 5 x 5 + 1) = 151 weights for a total of 2416 weights in C3 layer\n",
        "    # resulting in ((13 - 5 + 0)/1) + 1 = 9 x 9 x 16 output volume\n",
        "    Conv2D(filters=16, kernel_size=(5, 5), activation='sigmoid'), # REQUIRES STUDENT INPUT\n",
        "\n",
        "    # S4\n",
        "    # 16 feature maps in, 16 activation maps out\n",
        "    # 9 x 9 x 16 input volume\n",
        "    # goes into 0 weights in S2 layer\n",
        "    # pooling implies kernel size 4, stride 2 and padding of 0.5 b/c of odd input size\n",
        "    # resulting in (9 - ? + 1)/2) + 1 = ? x ? x 16 output volume\n",
        "    MaxPooling2D(pool_size=2),\n",
        "\n",
        "    # C5\n",
        "    # 16 activation maps in, 120 feature maps out (16 activation maps represented *in each of* the 120 feature maps)\n",
        "    # 4 x 4 x 16 input volume\n",
        "    # 16 activation maps go into 120 filters with (16 x 4 x 4 + 1) = 257 weights for a total of 257 weights in C5 layer\n",
        "    # resulting in a  (? - ? + 0)/1) + 1 = 1 x 1 x 120 output volume\n",
        "    Conv2D(filters=120, kernel_size=(4,4), activation='sigmoid'), # REQUIRES STUDENT INPUT\n",
        "\n",
        "    # F6\n",
        "    # 120 input elements are flattened and connected to ? weights with biases\n",
        "    # resulting in a 120 x 84 + 84 = 10,164 weights in F6 and a ? x 1 x 1 output volume\n",
        "    Flatten(),\n",
        "    Dense(84, activation='tanh'), # REQUIRES STUDENT INPUT\n",
        "\n",
        "    # Output\n",
        "    # each of ? units in F6 feed into 10 softmax output units\n",
        "    # there are ? x ? + ? = ? weights in the output layer resulting in a ? x 1 x 1 output volume\n",
        "    # output unit with highest output \"probability\" is the prediction for the image\n",
        "    Dense(10, activation='softmax'), # REQUIRES STUDENT INPUT\n",
        "\n",
        "])"
      ]
    },
    {
      "cell_type": "markdown",
      "source": [
        "6. View a summary of the model architecture"
      ],
      "metadata": {
        "id": "F-wrQbwKgz7O"
      }
    },
    {
      "cell_type": "code",
      "source": [
        "model.summary()"
      ],
      "metadata": {
        "id": "nADiLqGhg40-",
        "colab": {
          "base_uri": "https://localhost:8080/",
          "height": 388
        },
        "outputId": "ce458c80-4e83-4a4c-94f3-393277c31163"
      },
      "execution_count": 8,
      "outputs": [
        {
          "output_type": "display_data",
          "data": {
            "text/plain": [
              "\u001b[1mModel: \"sequential\"\u001b[0m\n"
            ],
            "text/html": [
              "<pre style=\"white-space:pre;overflow-x:auto;line-height:normal;font-family:Menlo,'DejaVu Sans Mono',consolas,'Courier New',monospace\"><span style=\"font-weight: bold\">Model: \"sequential\"</span>\n",
              "</pre>\n"
            ]
          },
          "metadata": {}
        },
        {
          "output_type": "display_data",
          "data": {
            "text/plain": [
              "┏━━━━━━━━━━━━━━━━━━━━━━━━━━━━━━━━━┳━━━━━━━━━━━━━━━━━━━━━━━━┳━━━━━━━━━━━━━━━┓\n",
              "┃\u001b[1m \u001b[0m\u001b[1mLayer (type)                   \u001b[0m\u001b[1m \u001b[0m┃\u001b[1m \u001b[0m\u001b[1mOutput Shape          \u001b[0m\u001b[1m \u001b[0m┃\u001b[1m \u001b[0m\u001b[1m      Param #\u001b[0m\u001b[1m \u001b[0m┃\n",
              "┡━━━━━━━━━━━━━━━━━━━━━━━━━━━━━━━━━╇━━━━━━━━━━━━━━━━━━━━━━━━╇━━━━━━━━━━━━━━━┩\n",
              "│ conv2d (\u001b[38;5;33mConv2D\u001b[0m)                 │ (\u001b[38;5;45mNone\u001b[0m, \u001b[38;5;34m27\u001b[0m, \u001b[38;5;34m27\u001b[0m, \u001b[38;5;34m6\u001b[0m)      │            \u001b[38;5;34m30\u001b[0m │\n",
              "├─────────────────────────────────┼────────────────────────┼───────────────┤\n",
              "│ max_pooling2d (\u001b[38;5;33mMaxPooling2D\u001b[0m)    │ (\u001b[38;5;45mNone\u001b[0m, \u001b[38;5;34m13\u001b[0m, \u001b[38;5;34m13\u001b[0m, \u001b[38;5;34m6\u001b[0m)      │             \u001b[38;5;34m0\u001b[0m │\n",
              "├─────────────────────────────────┼────────────────────────┼───────────────┤\n",
              "│ conv2d_1 (\u001b[38;5;33mConv2D\u001b[0m)               │ (\u001b[38;5;45mNone\u001b[0m, \u001b[38;5;34m9\u001b[0m, \u001b[38;5;34m9\u001b[0m, \u001b[38;5;34m16\u001b[0m)       │         \u001b[38;5;34m2,416\u001b[0m │\n",
              "├─────────────────────────────────┼────────────────────────┼───────────────┤\n",
              "│ max_pooling2d_1 (\u001b[38;5;33mMaxPooling2D\u001b[0m)  │ (\u001b[38;5;45mNone\u001b[0m, \u001b[38;5;34m4\u001b[0m, \u001b[38;5;34m4\u001b[0m, \u001b[38;5;34m16\u001b[0m)       │             \u001b[38;5;34m0\u001b[0m │\n",
              "├─────────────────────────────────┼────────────────────────┼───────────────┤\n",
              "│ conv2d_2 (\u001b[38;5;33mConv2D\u001b[0m)               │ (\u001b[38;5;45mNone\u001b[0m, \u001b[38;5;34m1\u001b[0m, \u001b[38;5;34m1\u001b[0m, \u001b[38;5;34m120\u001b[0m)      │        \u001b[38;5;34m30,840\u001b[0m │\n",
              "├─────────────────────────────────┼────────────────────────┼───────────────┤\n",
              "│ flatten (\u001b[38;5;33mFlatten\u001b[0m)               │ (\u001b[38;5;45mNone\u001b[0m, \u001b[38;5;34m120\u001b[0m)            │             \u001b[38;5;34m0\u001b[0m │\n",
              "├─────────────────────────────────┼────────────────────────┼───────────────┤\n",
              "│ dense (\u001b[38;5;33mDense\u001b[0m)                   │ (\u001b[38;5;45mNone\u001b[0m, \u001b[38;5;34m84\u001b[0m)             │        \u001b[38;5;34m10,164\u001b[0m │\n",
              "├─────────────────────────────────┼────────────────────────┼───────────────┤\n",
              "│ dense_1 (\u001b[38;5;33mDense\u001b[0m)                 │ (\u001b[38;5;45mNone\u001b[0m, \u001b[38;5;34m10\u001b[0m)             │           \u001b[38;5;34m850\u001b[0m │\n",
              "└─────────────────────────────────┴────────────────────────┴───────────────┘\n"
            ],
            "text/html": [
              "<pre style=\"white-space:pre;overflow-x:auto;line-height:normal;font-family:Menlo,'DejaVu Sans Mono',consolas,'Courier New',monospace\">┏━━━━━━━━━━━━━━━━━━━━━━━━━━━━━━━━━┳━━━━━━━━━━━━━━━━━━━━━━━━┳━━━━━━━━━━━━━━━┓\n",
              "┃<span style=\"font-weight: bold\"> Layer (type)                    </span>┃<span style=\"font-weight: bold\"> Output Shape           </span>┃<span style=\"font-weight: bold\">       Param # </span>┃\n",
              "┡━━━━━━━━━━━━━━━━━━━━━━━━━━━━━━━━━╇━━━━━━━━━━━━━━━━━━━━━━━━╇━━━━━━━━━━━━━━━┩\n",
              "│ conv2d (<span style=\"color: #0087ff; text-decoration-color: #0087ff\">Conv2D</span>)                 │ (<span style=\"color: #00d7ff; text-decoration-color: #00d7ff\">None</span>, <span style=\"color: #00af00; text-decoration-color: #00af00\">27</span>, <span style=\"color: #00af00; text-decoration-color: #00af00\">27</span>, <span style=\"color: #00af00; text-decoration-color: #00af00\">6</span>)      │            <span style=\"color: #00af00; text-decoration-color: #00af00\">30</span> │\n",
              "├─────────────────────────────────┼────────────────────────┼───────────────┤\n",
              "│ max_pooling2d (<span style=\"color: #0087ff; text-decoration-color: #0087ff\">MaxPooling2D</span>)    │ (<span style=\"color: #00d7ff; text-decoration-color: #00d7ff\">None</span>, <span style=\"color: #00af00; text-decoration-color: #00af00\">13</span>, <span style=\"color: #00af00; text-decoration-color: #00af00\">13</span>, <span style=\"color: #00af00; text-decoration-color: #00af00\">6</span>)      │             <span style=\"color: #00af00; text-decoration-color: #00af00\">0</span> │\n",
              "├─────────────────────────────────┼────────────────────────┼───────────────┤\n",
              "│ conv2d_1 (<span style=\"color: #0087ff; text-decoration-color: #0087ff\">Conv2D</span>)               │ (<span style=\"color: #00d7ff; text-decoration-color: #00d7ff\">None</span>, <span style=\"color: #00af00; text-decoration-color: #00af00\">9</span>, <span style=\"color: #00af00; text-decoration-color: #00af00\">9</span>, <span style=\"color: #00af00; text-decoration-color: #00af00\">16</span>)       │         <span style=\"color: #00af00; text-decoration-color: #00af00\">2,416</span> │\n",
              "├─────────────────────────────────┼────────────────────────┼───────────────┤\n",
              "│ max_pooling2d_1 (<span style=\"color: #0087ff; text-decoration-color: #0087ff\">MaxPooling2D</span>)  │ (<span style=\"color: #00d7ff; text-decoration-color: #00d7ff\">None</span>, <span style=\"color: #00af00; text-decoration-color: #00af00\">4</span>, <span style=\"color: #00af00; text-decoration-color: #00af00\">4</span>, <span style=\"color: #00af00; text-decoration-color: #00af00\">16</span>)       │             <span style=\"color: #00af00; text-decoration-color: #00af00\">0</span> │\n",
              "├─────────────────────────────────┼────────────────────────┼───────────────┤\n",
              "│ conv2d_2 (<span style=\"color: #0087ff; text-decoration-color: #0087ff\">Conv2D</span>)               │ (<span style=\"color: #00d7ff; text-decoration-color: #00d7ff\">None</span>, <span style=\"color: #00af00; text-decoration-color: #00af00\">1</span>, <span style=\"color: #00af00; text-decoration-color: #00af00\">1</span>, <span style=\"color: #00af00; text-decoration-color: #00af00\">120</span>)      │        <span style=\"color: #00af00; text-decoration-color: #00af00\">30,840</span> │\n",
              "├─────────────────────────────────┼────────────────────────┼───────────────┤\n",
              "│ flatten (<span style=\"color: #0087ff; text-decoration-color: #0087ff\">Flatten</span>)               │ (<span style=\"color: #00d7ff; text-decoration-color: #00d7ff\">None</span>, <span style=\"color: #00af00; text-decoration-color: #00af00\">120</span>)            │             <span style=\"color: #00af00; text-decoration-color: #00af00\">0</span> │\n",
              "├─────────────────────────────────┼────────────────────────┼───────────────┤\n",
              "│ dense (<span style=\"color: #0087ff; text-decoration-color: #0087ff\">Dense</span>)                   │ (<span style=\"color: #00d7ff; text-decoration-color: #00d7ff\">None</span>, <span style=\"color: #00af00; text-decoration-color: #00af00\">84</span>)             │        <span style=\"color: #00af00; text-decoration-color: #00af00\">10,164</span> │\n",
              "├─────────────────────────────────┼────────────────────────┼───────────────┤\n",
              "│ dense_1 (<span style=\"color: #0087ff; text-decoration-color: #0087ff\">Dense</span>)                 │ (<span style=\"color: #00d7ff; text-decoration-color: #00d7ff\">None</span>, <span style=\"color: #00af00; text-decoration-color: #00af00\">10</span>)             │           <span style=\"color: #00af00; text-decoration-color: #00af00\">850</span> │\n",
              "└─────────────────────────────────┴────────────────────────┴───────────────┘\n",
              "</pre>\n"
            ]
          },
          "metadata": {}
        },
        {
          "output_type": "display_data",
          "data": {
            "text/plain": [
              "\u001b[1m Total params: \u001b[0m\u001b[38;5;34m44,300\u001b[0m (173.05 KB)\n"
            ],
            "text/html": [
              "<pre style=\"white-space:pre;overflow-x:auto;line-height:normal;font-family:Menlo,'DejaVu Sans Mono',consolas,'Courier New',monospace\"><span style=\"font-weight: bold\"> Total params: </span><span style=\"color: #00af00; text-decoration-color: #00af00\">44,300</span> (173.05 KB)\n",
              "</pre>\n"
            ]
          },
          "metadata": {}
        },
        {
          "output_type": "display_data",
          "data": {
            "text/plain": [
              "\u001b[1m Trainable params: \u001b[0m\u001b[38;5;34m44,300\u001b[0m (173.05 KB)\n"
            ],
            "text/html": [
              "<pre style=\"white-space:pre;overflow-x:auto;line-height:normal;font-family:Menlo,'DejaVu Sans Mono',consolas,'Courier New',monospace\"><span style=\"font-weight: bold\"> Trainable params: </span><span style=\"color: #00af00; text-decoration-color: #00af00\">44,300</span> (173.05 KB)\n",
              "</pre>\n"
            ]
          },
          "metadata": {}
        },
        {
          "output_type": "display_data",
          "data": {
            "text/plain": [
              "\u001b[1m Non-trainable params: \u001b[0m\u001b[38;5;34m0\u001b[0m (0.00 B)\n"
            ],
            "text/html": [
              "<pre style=\"white-space:pre;overflow-x:auto;line-height:normal;font-family:Menlo,'DejaVu Sans Mono',consolas,'Courier New',monospace\"><span style=\"font-weight: bold\"> Non-trainable params: </span><span style=\"color: #00af00; text-decoration-color: #00af00\">0</span> (0.00 B)\n",
              "</pre>\n"
            ]
          },
          "metadata": {}
        }
      ]
    },
    {
      "cell_type": "markdown",
      "source": [
        "7. Precompile model for faster training"
      ],
      "metadata": {
        "id": "SOHpwRpzg87f"
      }
    },
    {
      "cell_type": "code",
      "execution_count": 9,
      "metadata": {
        "id": "zah-mHZdamhz"
      },
      "outputs": [],
      "source": [
        "model.compile(\n",
        "    loss='categorical_crossentropy',\n",
        "    optimizer= 'sgd', # REQUIRES STUDENT INPUT\n",
        "    metrics=['accuracy']\n",
        ")"
      ]
    },
    {
      "cell_type": "markdown",
      "source": [
        "8. Train model"
      ],
      "metadata": {
        "id": "tRAEx-j2hS3l"
      }
    },
    {
      "cell_type": "code",
      "execution_count": 10,
      "metadata": {
        "id": "iHaLygfzamh0",
        "colab": {
          "base_uri": "https://localhost:8080/"
        },
        "outputId": "c38e8b22-1eb9-4f3a-912a-667ba99b480d"
      },
      "outputs": [
        {
          "output_type": "stream",
          "name": "stdout",
          "text": [
            "Epoch 1/100\n",
            "\u001b[1m422/422\u001b[0m \u001b[32m━━━━━━━━━━━━━━━━━━━━\u001b[0m\u001b[37m\u001b[0m \u001b[1m7s\u001b[0m 8ms/step - accuracy: 0.1126 - loss: 2.3178 - val_accuracy: 0.1050 - val_loss: 2.3037\n",
            "Epoch 2/100\n",
            "\u001b[1m422/422\u001b[0m \u001b[32m━━━━━━━━━━━━━━━━━━━━\u001b[0m\u001b[37m\u001b[0m \u001b[1m1s\u001b[0m 3ms/step - accuracy: 0.1120 - loss: 2.3020 - val_accuracy: 0.1050 - val_loss: 2.3036\n",
            "Epoch 3/100\n",
            "\u001b[1m422/422\u001b[0m \u001b[32m━━━━━━━━━━━━━━━━━━━━\u001b[0m\u001b[37m\u001b[0m \u001b[1m1s\u001b[0m 3ms/step - accuracy: 0.1122 - loss: 2.3019 - val_accuracy: 0.1050 - val_loss: 2.3034\n",
            "Epoch 4/100\n",
            "\u001b[1m422/422\u001b[0m \u001b[32m━━━━━━━━━━━━━━━━━━━━\u001b[0m\u001b[37m\u001b[0m \u001b[1m2s\u001b[0m 4ms/step - accuracy: 0.1124 - loss: 2.3017 - val_accuracy: 0.1050 - val_loss: 2.3033\n",
            "Epoch 5/100\n",
            "\u001b[1m422/422\u001b[0m \u001b[32m━━━━━━━━━━━━━━━━━━━━\u001b[0m\u001b[37m\u001b[0m \u001b[1m2s\u001b[0m 4ms/step - accuracy: 0.1125 - loss: 2.3016 - val_accuracy: 0.1050 - val_loss: 2.3032\n",
            "Epoch 6/100\n",
            "\u001b[1m422/422\u001b[0m \u001b[32m━━━━━━━━━━━━━━━━━━━━\u001b[0m\u001b[37m\u001b[0m \u001b[1m2s\u001b[0m 3ms/step - accuracy: 0.1126 - loss: 2.3015 - val_accuracy: 0.1050 - val_loss: 2.3030\n",
            "Epoch 7/100\n",
            "\u001b[1m422/422\u001b[0m \u001b[32m━━━━━━━━━━━━━━━━━━━━\u001b[0m\u001b[37m\u001b[0m \u001b[1m3s\u001b[0m 3ms/step - accuracy: 0.1127 - loss: 2.3013 - val_accuracy: 0.1050 - val_loss: 2.3028\n",
            "Epoch 8/100\n",
            "\u001b[1m422/422\u001b[0m \u001b[32m━━━━━━━━━━━━━━━━━━━━\u001b[0m\u001b[37m\u001b[0m \u001b[1m3s\u001b[0m 3ms/step - accuracy: 0.1130 - loss: 2.3012 - val_accuracy: 0.1050 - val_loss: 2.3027\n",
            "Epoch 9/100\n",
            "\u001b[1m422/422\u001b[0m \u001b[32m━━━━━━━━━━━━━━━━━━━━\u001b[0m\u001b[37m\u001b[0m \u001b[1m1s\u001b[0m 3ms/step - accuracy: 0.1132 - loss: 2.3010 - val_accuracy: 0.1050 - val_loss: 2.3025\n",
            "Epoch 10/100\n",
            "\u001b[1m422/422\u001b[0m \u001b[32m━━━━━━━━━━━━━━━━━━━━\u001b[0m\u001b[37m\u001b[0m \u001b[1m1s\u001b[0m 3ms/step - accuracy: 0.1134 - loss: 2.3008 - val_accuracy: 0.1050 - val_loss: 2.3023\n",
            "Epoch 11/100\n",
            "\u001b[1m422/422\u001b[0m \u001b[32m━━━━━━━━━━━━━━━━━━━━\u001b[0m\u001b[37m\u001b[0m \u001b[1m2s\u001b[0m 4ms/step - accuracy: 0.1137 - loss: 2.3006 - val_accuracy: 0.1050 - val_loss: 2.3021\n",
            "Epoch 12/100\n",
            "\u001b[1m422/422\u001b[0m \u001b[32m━━━━━━━━━━━━━━━━━━━━\u001b[0m\u001b[37m\u001b[0m \u001b[1m2s\u001b[0m 3ms/step - accuracy: 0.1140 - loss: 2.3003 - val_accuracy: 0.1050 - val_loss: 2.3018\n",
            "Epoch 13/100\n",
            "\u001b[1m422/422\u001b[0m \u001b[32m━━━━━━━━━━━━━━━━━━━━\u001b[0m\u001b[37m\u001b[0m \u001b[1m3s\u001b[0m 3ms/step - accuracy: 0.1143 - loss: 2.3001 - val_accuracy: 0.1050 - val_loss: 2.3015\n",
            "Epoch 14/100\n",
            "\u001b[1m422/422\u001b[0m \u001b[32m━━━━━━━━━━━━━━━━━━━━\u001b[0m\u001b[37m\u001b[0m \u001b[1m2s\u001b[0m 3ms/step - accuracy: 0.1148 - loss: 2.2998 - val_accuracy: 0.1050 - val_loss: 2.3012\n",
            "Epoch 15/100\n",
            "\u001b[1m422/422\u001b[0m \u001b[32m━━━━━━━━━━━━━━━━━━━━\u001b[0m\u001b[37m\u001b[0m \u001b[1m1s\u001b[0m 3ms/step - accuracy: 0.1153 - loss: 2.2995 - val_accuracy: 0.1050 - val_loss: 2.3008\n",
            "Epoch 16/100\n",
            "\u001b[1m422/422\u001b[0m \u001b[32m━━━━━━━━━━━━━━━━━━━━\u001b[0m\u001b[37m\u001b[0m \u001b[1m1s\u001b[0m 3ms/step - accuracy: 0.1160 - loss: 2.2991 - val_accuracy: 0.1050 - val_loss: 2.3004\n",
            "Epoch 17/100\n",
            "\u001b[1m422/422\u001b[0m \u001b[32m━━━━━━━━━━━━━━━━━━━━\u001b[0m\u001b[37m\u001b[0m \u001b[1m2s\u001b[0m 4ms/step - accuracy: 0.1168 - loss: 2.2986 - val_accuracy: 0.1050 - val_loss: 2.2999\n",
            "Epoch 18/100\n",
            "\u001b[1m422/422\u001b[0m \u001b[32m━━━━━━━━━━━━━━━━━━━━\u001b[0m\u001b[37m\u001b[0m \u001b[1m2s\u001b[0m 4ms/step - accuracy: 0.1176 - loss: 2.2981 - val_accuracy: 0.1050 - val_loss: 2.2994\n",
            "Epoch 19/100\n",
            "\u001b[1m422/422\u001b[0m \u001b[32m━━━━━━━━━━━━━━━━━━━━\u001b[0m\u001b[37m\u001b[0m \u001b[1m2s\u001b[0m 3ms/step - accuracy: 0.1185 - loss: 2.2975 - val_accuracy: 0.1050 - val_loss: 2.2987\n",
            "Epoch 20/100\n",
            "\u001b[1m422/422\u001b[0m \u001b[32m━━━━━━━━━━━━━━━━━━━━\u001b[0m\u001b[37m\u001b[0m \u001b[1m1s\u001b[0m 3ms/step - accuracy: 0.1195 - loss: 2.2968 - val_accuracy: 0.1050 - val_loss: 2.2978\n",
            "Epoch 21/100\n",
            "\u001b[1m422/422\u001b[0m \u001b[32m━━━━━━━━━━━━━━━━━━━━\u001b[0m\u001b[37m\u001b[0m \u001b[1m1s\u001b[0m 3ms/step - accuracy: 0.1205 - loss: 2.2959 - val_accuracy: 0.1050 - val_loss: 2.2968\n",
            "Epoch 22/100\n",
            "\u001b[1m422/422\u001b[0m \u001b[32m━━━━━━━━━━━━━━━━━━━━\u001b[0m\u001b[37m\u001b[0m \u001b[1m3s\u001b[0m 3ms/step - accuracy: 0.1221 - loss: 2.2948 - val_accuracy: 0.1050 - val_loss: 2.2955\n",
            "Epoch 23/100\n",
            "\u001b[1m422/422\u001b[0m \u001b[32m━━━━━━━━━━━━━━━━━━━━\u001b[0m\u001b[37m\u001b[0m \u001b[1m2s\u001b[0m 4ms/step - accuracy: 0.1238 - loss: 2.2934 - val_accuracy: 0.1050 - val_loss: 2.2939\n",
            "Epoch 24/100\n",
            "\u001b[1m422/422\u001b[0m \u001b[32m━━━━━━━━━━━━━━━━━━━━\u001b[0m\u001b[37m\u001b[0m \u001b[1m2s\u001b[0m 4ms/step - accuracy: 0.1264 - loss: 2.2917 - val_accuracy: 0.1050 - val_loss: 2.2918\n",
            "Epoch 25/100\n",
            "\u001b[1m422/422\u001b[0m \u001b[32m━━━━━━━━━━━━━━━━━━━━\u001b[0m\u001b[37m\u001b[0m \u001b[1m2s\u001b[0m 3ms/step - accuracy: 0.1302 - loss: 2.2894 - val_accuracy: 0.1050 - val_loss: 2.2890\n",
            "Epoch 26/100\n",
            "\u001b[1m422/422\u001b[0m \u001b[32m━━━━━━━━━━━━━━━━━━━━\u001b[0m\u001b[37m\u001b[0m \u001b[1m1s\u001b[0m 3ms/step - accuracy: 0.1363 - loss: 2.2863 - val_accuracy: 0.1050 - val_loss: 2.2851\n",
            "Epoch 27/100\n",
            "\u001b[1m422/422\u001b[0m \u001b[32m━━━━━━━━━━━━━━━━━━━━\u001b[0m\u001b[37m\u001b[0m \u001b[1m3s\u001b[0m 3ms/step - accuracy: 0.1477 - loss: 2.2820 - val_accuracy: 0.1050 - val_loss: 2.2795\n",
            "Epoch 28/100\n",
            "\u001b[1m422/422\u001b[0m \u001b[32m━━━━━━━━━━━━━━━━━━━━\u001b[0m\u001b[37m\u001b[0m \u001b[1m3s\u001b[0m 4ms/step - accuracy: 0.1654 - loss: 2.2757 - val_accuracy: 0.1050 - val_loss: 2.2712\n",
            "Epoch 29/100\n",
            "\u001b[1m422/422\u001b[0m \u001b[32m━━━━━━━━━━━━━━━━━━━━\u001b[0m\u001b[37m\u001b[0m \u001b[1m2s\u001b[0m 4ms/step - accuracy: 0.1898 - loss: 2.2662 - val_accuracy: 0.1050 - val_loss: 2.2577\n",
            "Epoch 30/100\n",
            "\u001b[1m422/422\u001b[0m \u001b[32m━━━━━━━━━━━━━━━━━━━━\u001b[0m\u001b[37m\u001b[0m \u001b[1m1s\u001b[0m 3ms/step - accuracy: 0.2260 - loss: 2.2505 - val_accuracy: 0.1385 - val_loss: 2.2340\n",
            "Epoch 31/100\n",
            "\u001b[1m422/422\u001b[0m \u001b[32m━━━━━━━━━━━━━━━━━━━━\u001b[0m\u001b[37m\u001b[0m \u001b[1m1s\u001b[0m 3ms/step - accuracy: 0.2803 - loss: 2.2222 - val_accuracy: 0.2723 - val_loss: 2.1878\n",
            "Epoch 32/100\n",
            "\u001b[1m422/422\u001b[0m \u001b[32m━━━━━━━━━━━━━━━━━━━━\u001b[0m\u001b[37m\u001b[0m \u001b[1m1s\u001b[0m 3ms/step - accuracy: 0.3405 - loss: 2.1657 - val_accuracy: 0.4025 - val_loss: 2.0899\n",
            "Epoch 33/100\n",
            "\u001b[1m422/422\u001b[0m \u001b[32m━━━━━━━━━━━━━━━━━━━━\u001b[0m\u001b[37m\u001b[0m \u001b[1m1s\u001b[0m 3ms/step - accuracy: 0.4080 - loss: 2.0485 - val_accuracy: 0.5022 - val_loss: 1.9069\n",
            "Epoch 34/100\n",
            "\u001b[1m422/422\u001b[0m \u001b[32m━━━━━━━━━━━━━━━━━━━━\u001b[0m\u001b[37m\u001b[0m \u001b[1m2s\u001b[0m 4ms/step - accuracy: 0.4854 - loss: 1.8551 - val_accuracy: 0.5725 - val_loss: 1.6844\n",
            "Epoch 35/100\n",
            "\u001b[1m422/422\u001b[0m \u001b[32m━━━━━━━━━━━━━━━━━━━━\u001b[0m\u001b[37m\u001b[0m \u001b[1m2s\u001b[0m 4ms/step - accuracy: 0.5461 - loss: 1.6417 - val_accuracy: 0.6243 - val_loss: 1.4510\n",
            "Epoch 36/100\n",
            "\u001b[1m422/422\u001b[0m \u001b[32m━━━━━━━━━━━━━━━━━━━━\u001b[0m\u001b[37m\u001b[0m \u001b[1m3s\u001b[0m 4ms/step - accuracy: 0.6080 - loss: 1.4174 - val_accuracy: 0.6927 - val_loss: 1.2011\n",
            "Epoch 37/100\n",
            "\u001b[1m422/422\u001b[0m \u001b[32m━━━━━━━━━━━━━━━━━━━━\u001b[0m\u001b[37m\u001b[0m \u001b[1m2s\u001b[0m 3ms/step - accuracy: 0.6685 - loss: 1.1869 - val_accuracy: 0.7493 - val_loss: 0.9801\n",
            "Epoch 38/100\n",
            "\u001b[1m422/422\u001b[0m \u001b[32m━━━━━━━━━━━━━━━━━━━━\u001b[0m\u001b[37m\u001b[0m \u001b[1m3s\u001b[0m 3ms/step - accuracy: 0.7154 - loss: 0.9918 - val_accuracy: 0.7865 - val_loss: 0.8155\n",
            "Epoch 39/100\n",
            "\u001b[1m422/422\u001b[0m \u001b[32m━━━━━━━━━━━━━━━━━━━━\u001b[0m\u001b[37m\u001b[0m \u001b[1m1s\u001b[0m 3ms/step - accuracy: 0.7530 - loss: 0.8492 - val_accuracy: 0.8088 - val_loss: 0.7014\n",
            "Epoch 40/100\n",
            "\u001b[1m422/422\u001b[0m \u001b[32m━━━━━━━━━━━━━━━━━━━━\u001b[0m\u001b[37m\u001b[0m \u001b[1m3s\u001b[0m 4ms/step - accuracy: 0.7806 - loss: 0.7493 - val_accuracy: 0.8327 - val_loss: 0.6201\n",
            "Epoch 41/100\n",
            "\u001b[1m422/422\u001b[0m \u001b[32m━━━━━━━━━━━━━━━━━━━━\u001b[0m\u001b[37m\u001b[0m \u001b[1m2s\u001b[0m 5ms/step - accuracy: 0.8008 - loss: 0.6763 - val_accuracy: 0.8505 - val_loss: 0.5581\n",
            "Epoch 42/100\n",
            "\u001b[1m422/422\u001b[0m \u001b[32m━━━━━━━━━━━━━━━━━━━━\u001b[0m\u001b[37m\u001b[0m \u001b[1m1s\u001b[0m 3ms/step - accuracy: 0.8202 - loss: 0.6190 - val_accuracy: 0.8652 - val_loss: 0.5084\n",
            "Epoch 43/100\n",
            "\u001b[1m422/422\u001b[0m \u001b[32m━━━━━━━━━━━━━━━━━━━━\u001b[0m\u001b[37m\u001b[0m \u001b[1m1s\u001b[0m 3ms/step - accuracy: 0.8352 - loss: 0.5719 - val_accuracy: 0.8755 - val_loss: 0.4678\n",
            "Epoch 44/100\n",
            "\u001b[1m422/422\u001b[0m \u001b[32m━━━━━━━━━━━━━━━━━━━━\u001b[0m\u001b[37m\u001b[0m \u001b[1m3s\u001b[0m 3ms/step - accuracy: 0.8475 - loss: 0.5324 - val_accuracy: 0.8843 - val_loss: 0.4345\n",
            "Epoch 45/100\n",
            "\u001b[1m422/422\u001b[0m \u001b[32m━━━━━━━━━━━━━━━━━━━━\u001b[0m\u001b[37m\u001b[0m \u001b[1m1s\u001b[0m 3ms/step - accuracy: 0.8572 - loss: 0.4993 - val_accuracy: 0.8902 - val_loss: 0.4072\n",
            "Epoch 46/100\n",
            "\u001b[1m422/422\u001b[0m \u001b[32m━━━━━━━━━━━━━━━━━━━━\u001b[0m\u001b[37m\u001b[0m \u001b[1m3s\u001b[0m 3ms/step - accuracy: 0.8650 - loss: 0.4713 - val_accuracy: 0.8945 - val_loss: 0.3845\n",
            "Epoch 47/100\n",
            "\u001b[1m422/422\u001b[0m \u001b[32m━━━━━━━━━━━━━━━━━━━━\u001b[0m\u001b[37m\u001b[0m \u001b[1m2s\u001b[0m 5ms/step - accuracy: 0.8717 - loss: 0.4476 - val_accuracy: 0.8995 - val_loss: 0.3654\n",
            "Epoch 48/100\n",
            "\u001b[1m422/422\u001b[0m \u001b[32m━━━━━━━━━━━━━━━━━━━━\u001b[0m\u001b[37m\u001b[0m \u001b[1m2s\u001b[0m 4ms/step - accuracy: 0.8769 - loss: 0.4272 - val_accuracy: 0.9023 - val_loss: 0.3491\n",
            "Epoch 49/100\n",
            "\u001b[1m422/422\u001b[0m \u001b[32m━━━━━━━━━━━━━━━━━━━━\u001b[0m\u001b[37m\u001b[0m \u001b[1m1s\u001b[0m 3ms/step - accuracy: 0.8815 - loss: 0.4094 - val_accuracy: 0.9060 - val_loss: 0.3349\n",
            "Epoch 50/100\n",
            "\u001b[1m422/422\u001b[0m \u001b[32m━━━━━━━━━━━━━━━━━━━━\u001b[0m\u001b[37m\u001b[0m \u001b[1m1s\u001b[0m 3ms/step - accuracy: 0.8858 - loss: 0.3937 - val_accuracy: 0.9093 - val_loss: 0.3223\n",
            "Epoch 51/100\n",
            "\u001b[1m422/422\u001b[0m \u001b[32m━━━━━━━━━━━━━━━━━━━━\u001b[0m\u001b[37m\u001b[0m \u001b[1m1s\u001b[0m 3ms/step - accuracy: 0.8892 - loss: 0.3797 - val_accuracy: 0.9122 - val_loss: 0.3111\n",
            "Epoch 52/100\n",
            "\u001b[1m422/422\u001b[0m \u001b[32m━━━━━━━━━━━━━━━━━━━━\u001b[0m\u001b[37m\u001b[0m \u001b[1m3s\u001b[0m 3ms/step - accuracy: 0.8931 - loss: 0.3669 - val_accuracy: 0.9140 - val_loss: 0.3008\n",
            "Epoch 53/100\n",
            "\u001b[1m422/422\u001b[0m \u001b[32m━━━━━━━━━━━━━━━━━━━━\u001b[0m\u001b[37m\u001b[0m \u001b[1m1s\u001b[0m 3ms/step - accuracy: 0.8964 - loss: 0.3553 - val_accuracy: 0.9153 - val_loss: 0.2913\n",
            "Epoch 54/100\n",
            "\u001b[1m422/422\u001b[0m \u001b[32m━━━━━━━━━━━━━━━━━━━━\u001b[0m\u001b[37m\u001b[0m \u001b[1m2s\u001b[0m 4ms/step - accuracy: 0.8997 - loss: 0.3445 - val_accuracy: 0.9182 - val_loss: 0.2825\n",
            "Epoch 55/100\n",
            "\u001b[1m422/422\u001b[0m \u001b[32m━━━━━━━━━━━━━━━━━━━━\u001b[0m\u001b[37m\u001b[0m \u001b[1m2s\u001b[0m 3ms/step - accuracy: 0.9022 - loss: 0.3345 - val_accuracy: 0.9202 - val_loss: 0.2743\n",
            "Epoch 56/100\n",
            "\u001b[1m422/422\u001b[0m \u001b[32m━━━━━━━━━━━━━━━━━━━━\u001b[0m\u001b[37m\u001b[0m \u001b[1m1s\u001b[0m 3ms/step - accuracy: 0.9045 - loss: 0.3251 - val_accuracy: 0.9222 - val_loss: 0.2666\n",
            "Epoch 57/100\n",
            "\u001b[1m422/422\u001b[0m \u001b[32m━━━━━━━━━━━━━━━━━━━━\u001b[0m\u001b[37m\u001b[0m \u001b[1m1s\u001b[0m 3ms/step - accuracy: 0.9069 - loss: 0.3163 - val_accuracy: 0.9242 - val_loss: 0.2594\n",
            "Epoch 58/100\n",
            "\u001b[1m422/422\u001b[0m \u001b[32m━━━━━━━━━━━━━━━━━━━━\u001b[0m\u001b[37m\u001b[0m \u001b[1m3s\u001b[0m 4ms/step - accuracy: 0.9090 - loss: 0.3080 - val_accuracy: 0.9260 - val_loss: 0.2525\n",
            "Epoch 59/100\n",
            "\u001b[1m422/422\u001b[0m \u001b[32m━━━━━━━━━━━━━━━━━━━━\u001b[0m\u001b[37m\u001b[0m \u001b[1m3s\u001b[0m 3ms/step - accuracy: 0.9111 - loss: 0.3001 - val_accuracy: 0.9283 - val_loss: 0.2460\n",
            "Epoch 60/100\n",
            "\u001b[1m422/422\u001b[0m \u001b[32m━━━━━━━━━━━━━━━━━━━━\u001b[0m\u001b[37m\u001b[0m \u001b[1m2s\u001b[0m 4ms/step - accuracy: 0.9132 - loss: 0.2926 - val_accuracy: 0.9303 - val_loss: 0.2398\n",
            "Epoch 61/100\n",
            "\u001b[1m422/422\u001b[0m \u001b[32m━━━━━━━━━━━━━━━━━━━━\u001b[0m\u001b[37m\u001b[0m \u001b[1m2s\u001b[0m 3ms/step - accuracy: 0.9155 - loss: 0.2854 - val_accuracy: 0.9325 - val_loss: 0.2339\n",
            "Epoch 62/100\n",
            "\u001b[1m422/422\u001b[0m \u001b[32m━━━━━━━━━━━━━━━━━━━━\u001b[0m\u001b[37m\u001b[0m \u001b[1m1s\u001b[0m 3ms/step - accuracy: 0.9176 - loss: 0.2786 - val_accuracy: 0.9342 - val_loss: 0.2283\n",
            "Epoch 63/100\n",
            "\u001b[1m422/422\u001b[0m \u001b[32m━━━━━━━━━━━━━━━━━━━━\u001b[0m\u001b[37m\u001b[0m \u001b[1m1s\u001b[0m 3ms/step - accuracy: 0.9194 - loss: 0.2720 - val_accuracy: 0.9355 - val_loss: 0.2229\n",
            "Epoch 64/100\n",
            "\u001b[1m422/422\u001b[0m \u001b[32m━━━━━━━━━━━━━━━━━━━━\u001b[0m\u001b[37m\u001b[0m \u001b[1m1s\u001b[0m 3ms/step - accuracy: 0.9210 - loss: 0.2657 - val_accuracy: 0.9370 - val_loss: 0.2178\n",
            "Epoch 65/100\n",
            "\u001b[1m422/422\u001b[0m \u001b[32m━━━━━━━━━━━━━━━━━━━━\u001b[0m\u001b[37m\u001b[0m \u001b[1m3s\u001b[0m 3ms/step - accuracy: 0.9225 - loss: 0.2597 - val_accuracy: 0.9378 - val_loss: 0.2128\n",
            "Epoch 66/100\n",
            "\u001b[1m422/422\u001b[0m \u001b[32m━━━━━━━━━━━━━━━━━━━━\u001b[0m\u001b[37m\u001b[0m \u001b[1m2s\u001b[0m 4ms/step - accuracy: 0.9242 - loss: 0.2540 - val_accuracy: 0.9395 - val_loss: 0.2081\n",
            "Epoch 67/100\n",
            "\u001b[1m422/422\u001b[0m \u001b[32m━━━━━━━━━━━━━━━━━━━━\u001b[0m\u001b[37m\u001b[0m \u001b[1m2s\u001b[0m 3ms/step - accuracy: 0.9256 - loss: 0.2484 - val_accuracy: 0.9400 - val_loss: 0.2036\n",
            "Epoch 68/100\n",
            "\u001b[1m422/422\u001b[0m \u001b[32m━━━━━━━━━━━━━━━━━━━━\u001b[0m\u001b[37m\u001b[0m \u001b[1m3s\u001b[0m 3ms/step - accuracy: 0.9272 - loss: 0.2431 - val_accuracy: 0.9415 - val_loss: 0.1992\n",
            "Epoch 69/100\n",
            "\u001b[1m422/422\u001b[0m \u001b[32m━━━━━━━━━━━━━━━━━━━━\u001b[0m\u001b[37m\u001b[0m \u001b[1m1s\u001b[0m 3ms/step - accuracy: 0.9290 - loss: 0.2379 - val_accuracy: 0.9428 - val_loss: 0.1950\n",
            "Epoch 70/100\n",
            "\u001b[1m422/422\u001b[0m \u001b[32m━━━━━━━━━━━━━━━━━━━━\u001b[0m\u001b[37m\u001b[0m \u001b[1m1s\u001b[0m 3ms/step - accuracy: 0.9305 - loss: 0.2330 - val_accuracy: 0.9438 - val_loss: 0.1910\n",
            "Epoch 71/100\n",
            "\u001b[1m422/422\u001b[0m \u001b[32m━━━━━━━━━━━━━━━━━━━━\u001b[0m\u001b[37m\u001b[0m \u001b[1m1s\u001b[0m 3ms/step - accuracy: 0.9320 - loss: 0.2282 - val_accuracy: 0.9450 - val_loss: 0.1872\n",
            "Epoch 72/100\n",
            "\u001b[1m422/422\u001b[0m \u001b[32m━━━━━━━━━━━━━━━━━━━━\u001b[0m\u001b[37m\u001b[0m \u001b[1m3s\u001b[0m 4ms/step - accuracy: 0.9340 - loss: 0.2236 - val_accuracy: 0.9470 - val_loss: 0.1834\n",
            "Epoch 73/100\n",
            "\u001b[1m422/422\u001b[0m \u001b[32m━━━━━━━━━━━━━━━━━━━━\u001b[0m\u001b[37m\u001b[0m \u001b[1m2s\u001b[0m 3ms/step - accuracy: 0.9351 - loss: 0.2192 - val_accuracy: 0.9478 - val_loss: 0.1799\n",
            "Epoch 74/100\n",
            "\u001b[1m422/422\u001b[0m \u001b[32m━━━━━━━━━━━━━━━━━━━━\u001b[0m\u001b[37m\u001b[0m \u001b[1m1s\u001b[0m 3ms/step - accuracy: 0.9365 - loss: 0.2149 - val_accuracy: 0.9488 - val_loss: 0.1764\n",
            "Epoch 75/100\n",
            "\u001b[1m422/422\u001b[0m \u001b[32m━━━━━━━━━━━━━━━━━━━━\u001b[0m\u001b[37m\u001b[0m \u001b[1m1s\u001b[0m 3ms/step - accuracy: 0.9378 - loss: 0.2108 - val_accuracy: 0.9493 - val_loss: 0.1731\n",
            "Epoch 76/100\n",
            "\u001b[1m422/422\u001b[0m \u001b[32m━━━━━━━━━━━━━━━━━━━━\u001b[0m\u001b[37m\u001b[0m \u001b[1m3s\u001b[0m 3ms/step - accuracy: 0.9391 - loss: 0.2069 - val_accuracy: 0.9502 - val_loss: 0.1699\n",
            "Epoch 77/100\n",
            "\u001b[1m422/422\u001b[0m \u001b[32m━━━━━━━━━━━━━━━━━━━━\u001b[0m\u001b[37m\u001b[0m \u001b[1m1s\u001b[0m 3ms/step - accuracy: 0.9399 - loss: 0.2031 - val_accuracy: 0.9512 - val_loss: 0.1669\n",
            "Epoch 78/100\n",
            "\u001b[1m422/422\u001b[0m \u001b[32m━━━━━━━━━━━━━━━━━━━━\u001b[0m\u001b[37m\u001b[0m \u001b[1m1s\u001b[0m 3ms/step - accuracy: 0.9408 - loss: 0.1994 - val_accuracy: 0.9523 - val_loss: 0.1639\n",
            "Epoch 79/100\n",
            "\u001b[1m422/422\u001b[0m \u001b[32m━━━━━━━━━━━━━━━━━━━━\u001b[0m\u001b[37m\u001b[0m \u001b[1m3s\u001b[0m 4ms/step - accuracy: 0.9422 - loss: 0.1958 - val_accuracy: 0.9535 - val_loss: 0.1611\n",
            "Epoch 80/100\n",
            "\u001b[1m422/422\u001b[0m \u001b[32m━━━━━━━━━━━━━━━━━━━━\u001b[0m\u001b[37m\u001b[0m \u001b[1m1s\u001b[0m 3ms/step - accuracy: 0.9433 - loss: 0.1924 - val_accuracy: 0.9545 - val_loss: 0.1584\n",
            "Epoch 81/100\n",
            "\u001b[1m422/422\u001b[0m \u001b[32m━━━━━━━━━━━━━━━━━━━━\u001b[0m\u001b[37m\u001b[0m \u001b[1m1s\u001b[0m 3ms/step - accuracy: 0.9444 - loss: 0.1892 - val_accuracy: 0.9555 - val_loss: 0.1558\n",
            "Epoch 82/100\n",
            "\u001b[1m422/422\u001b[0m \u001b[32m━━━━━━━━━━━━━━━━━━━━\u001b[0m\u001b[37m\u001b[0m \u001b[1m1s\u001b[0m 3ms/step - accuracy: 0.9454 - loss: 0.1860 - val_accuracy: 0.9563 - val_loss: 0.1533\n",
            "Epoch 83/100\n",
            "\u001b[1m422/422\u001b[0m \u001b[32m━━━━━━━━━━━━━━━━━━━━\u001b[0m\u001b[37m\u001b[0m \u001b[1m3s\u001b[0m 3ms/step - accuracy: 0.9462 - loss: 0.1829 - val_accuracy: 0.9572 - val_loss: 0.1508\n",
            "Epoch 84/100\n",
            "\u001b[1m422/422\u001b[0m \u001b[32m━━━━━━━━━━━━━━━━━━━━\u001b[0m\u001b[37m\u001b[0m \u001b[1m1s\u001b[0m 3ms/step - accuracy: 0.9469 - loss: 0.1800 - val_accuracy: 0.9575 - val_loss: 0.1485\n",
            "Epoch 85/100\n",
            "\u001b[1m422/422\u001b[0m \u001b[32m━━━━━━━━━━━━━━━━━━━━\u001b[0m\u001b[37m\u001b[0m \u001b[1m3s\u001b[0m 4ms/step - accuracy: 0.9479 - loss: 0.1772 - val_accuracy: 0.9572 - val_loss: 0.1463\n",
            "Epoch 86/100\n",
            "\u001b[1m422/422\u001b[0m \u001b[32m━━━━━━━━━━━━━━━━━━━━\u001b[0m\u001b[37m\u001b[0m \u001b[1m2s\u001b[0m 3ms/step - accuracy: 0.9485 - loss: 0.1744 - val_accuracy: 0.9577 - val_loss: 0.1441\n",
            "Epoch 87/100\n",
            "\u001b[1m422/422\u001b[0m \u001b[32m━━━━━━━━━━━━━━━━━━━━\u001b[0m\u001b[37m\u001b[0m \u001b[1m3s\u001b[0m 3ms/step - accuracy: 0.9492 - loss: 0.1718 - val_accuracy: 0.9578 - val_loss: 0.1420\n",
            "Epoch 88/100\n",
            "\u001b[1m422/422\u001b[0m \u001b[32m━━━━━━━━━━━━━━━━━━━━\u001b[0m\u001b[37m\u001b[0m \u001b[1m1s\u001b[0m 3ms/step - accuracy: 0.9503 - loss: 0.1692 - val_accuracy: 0.9592 - val_loss: 0.1400\n",
            "Epoch 89/100\n",
            "\u001b[1m422/422\u001b[0m \u001b[32m━━━━━━━━━━━━━━━━━━━━\u001b[0m\u001b[37m\u001b[0m \u001b[1m1s\u001b[0m 3ms/step - accuracy: 0.9510 - loss: 0.1668 - val_accuracy: 0.9595 - val_loss: 0.1381\n",
            "Epoch 90/100\n",
            "\u001b[1m422/422\u001b[0m \u001b[32m━━━━━━━━━━━━━━━━━━━━\u001b[0m\u001b[37m\u001b[0m \u001b[1m3s\u001b[0m 4ms/step - accuracy: 0.9516 - loss: 0.1644 - val_accuracy: 0.9602 - val_loss: 0.1362\n",
            "Epoch 91/100\n",
            "\u001b[1m422/422\u001b[0m \u001b[32m━━━━━━━━━━━━━━━━━━━━\u001b[0m\u001b[37m\u001b[0m \u001b[1m2s\u001b[0m 4ms/step - accuracy: 0.9520 - loss: 0.1621 - val_accuracy: 0.9607 - val_loss: 0.1344\n",
            "Epoch 92/100\n",
            "\u001b[1m422/422\u001b[0m \u001b[32m━━━━━━━━━━━━━━━━━━━━\u001b[0m\u001b[37m\u001b[0m \u001b[1m2s\u001b[0m 4ms/step - accuracy: 0.9526 - loss: 0.1599 - val_accuracy: 0.9613 - val_loss: 0.1327\n",
            "Epoch 93/100\n",
            "\u001b[1m422/422\u001b[0m \u001b[32m━━━━━━━━━━━━━━━━━━━━\u001b[0m\u001b[37m\u001b[0m \u001b[1m1s\u001b[0m 3ms/step - accuracy: 0.9530 - loss: 0.1578 - val_accuracy: 0.9620 - val_loss: 0.1310\n",
            "Epoch 94/100\n",
            "\u001b[1m422/422\u001b[0m \u001b[32m━━━━━━━━━━━━━━━━━━━━\u001b[0m\u001b[37m\u001b[0m \u001b[1m3s\u001b[0m 3ms/step - accuracy: 0.9534 - loss: 0.1557 - val_accuracy: 0.9622 - val_loss: 0.1294\n",
            "Epoch 95/100\n",
            "\u001b[1m422/422\u001b[0m \u001b[32m━━━━━━━━━━━━━━━━━━━━\u001b[0m\u001b[37m\u001b[0m \u001b[1m3s\u001b[0m 3ms/step - accuracy: 0.9539 - loss: 0.1537 - val_accuracy: 0.9628 - val_loss: 0.1278\n",
            "Epoch 96/100\n",
            "\u001b[1m422/422\u001b[0m \u001b[32m━━━━━━━━━━━━━━━━━━━━\u001b[0m\u001b[37m\u001b[0m \u001b[1m2s\u001b[0m 4ms/step - accuracy: 0.9542 - loss: 0.1517 - val_accuracy: 0.9632 - val_loss: 0.1263\n",
            "Epoch 97/100\n",
            "\u001b[1m422/422\u001b[0m \u001b[32m━━━━━━━━━━━━━━━━━━━━\u001b[0m\u001b[37m\u001b[0m \u001b[1m2s\u001b[0m 4ms/step - accuracy: 0.9548 - loss: 0.1499 - val_accuracy: 0.9635 - val_loss: 0.1248\n",
            "Epoch 98/100\n",
            "\u001b[1m422/422\u001b[0m \u001b[32m━━━━━━━━━━━━━━━━━━━━\u001b[0m\u001b[37m\u001b[0m \u001b[1m1s\u001b[0m 3ms/step - accuracy: 0.9552 - loss: 0.1480 - val_accuracy: 0.9637 - val_loss: 0.1234\n",
            "Epoch 99/100\n",
            "\u001b[1m422/422\u001b[0m \u001b[32m━━━━━━━━━━━━━━━━━━━━\u001b[0m\u001b[37m\u001b[0m \u001b[1m1s\u001b[0m 3ms/step - accuracy: 0.9558 - loss: 0.1463 - val_accuracy: 0.9637 - val_loss: 0.1220\n",
            "Epoch 100/100\n",
            "\u001b[1m422/422\u001b[0m \u001b[32m━━━━━━━━━━━━━━━━━━━━\u001b[0m\u001b[37m\u001b[0m \u001b[1m3s\u001b[0m 3ms/step - accuracy: 0.9563 - loss: 0.1446 - val_accuracy: 0.9640 - val_loss: 0.1207\n"
          ]
        },
        {
          "output_type": "execute_result",
          "data": {
            "text/plain": [
              "<keras.src.callbacks.history.History at 0x7dfe7d236310>"
            ]
          },
          "metadata": {},
          "execution_count": 10
        }
      ],
      "source": [
        "# restart and run notebook for reproducible results\n",
        "# running this cell multiple times will result in irreproducible results\n",
        "model.fit(x_train, y_train, epochs=100, batch_size=128, validation_split=0.1)"
      ]
    },
    {
      "cell_type": "markdown",
      "source": [
        "9. Evaluate model performance on test data"
      ],
      "metadata": {
        "id": "diOlWRfXiDi9"
      }
    },
    {
      "cell_type": "code",
      "execution_count": 11,
      "metadata": {
        "id": "lW1I2J0samh0",
        "colab": {
          "base_uri": "https://localhost:8080/"
        },
        "outputId": "0974dc88-7767-4e50-d398-eb55294d007a"
      },
      "outputs": [
        {
          "output_type": "stream",
          "name": "stdout",
          "text": [
            "\u001b[1m79/79\u001b[0m \u001b[32m━━━━━━━━━━━━━━━━━━━━\u001b[0m\u001b[37m\u001b[0m \u001b[1m1s\u001b[0m 9ms/step - accuracy: 0.9526 - loss: 0.1482\n",
            "Test accuracy: 0.9619\n"
          ]
        }
      ],
      "source": [
        "loss, acc = model.evaluate(x_test, y_test, batch_size=128)\n",
        "print(f\"Test accuracy: {acc:.4f}\")"
      ]
    },
    {
      "cell_type": "code",
      "source": [
        "import numpy as np\n",
        "import tensorflow as tf\n",
        "import matplotlib\n",
        "import sys\n",
        "\n",
        "print(\"Python version:\", sys.version)\n",
        "print(\"NumPy version:\", np.__version__)\n",
        "print(\"TensorFlow version:\", tf.__version__)\n",
        "print(\"Matplotlib version:\", matplotlib.__version__)\n"
      ],
      "metadata": {
        "colab": {
          "base_uri": "https://localhost:8080/"
        },
        "id": "3bLjRmwe1ZAi",
        "outputId": "9678177c-6289-4bc2-dfc3-0df4ae182663"
      },
      "execution_count": 1,
      "outputs": [
        {
          "output_type": "stream",
          "name": "stdout",
          "text": [
            "Python version: 3.11.13 (main, Jun  4 2025, 08:57:29) [GCC 11.4.0]\n",
            "NumPy version: 2.0.2\n",
            "TensorFlow version: 2.18.0\n",
            "Matplotlib version: 3.10.0\n"
          ]
        }
      ]
    }
  ],
  "metadata": {
    "anaconda-cloud": {},
    "kernelspec": {
      "display_name": "Python 3",
      "name": "python3"
    },
    "language_info": {
      "codemirror_mode": {
        "name": "ipython",
        "version": 3
      },
      "file_extension": ".py",
      "mimetype": "text/x-python",
      "name": "python",
      "nbconvert_exporter": "python",
      "pygments_lexer": "ipython3",
      "version": "3.6.4"
    },
    "colab": {
      "provenance": [],
      "gpuType": "T4"
    },
    "accelerator": "GPU"
  },
  "nbformat": 4,
  "nbformat_minor": 0
}